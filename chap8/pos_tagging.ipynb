{
 "cells": [
  {
   "cell_type": "code",
   "execution_count": 1,
   "metadata": {
    "collapsed": false
   },
   "outputs": [
    {
     "name": "stderr",
     "output_type": "stream",
     "text": [
      "Using gpu device 0: GeForce GTX TITAN X\n"
     ]
    }
   ],
   "source": [
    "import theano.sandbox.cuda\n",
    "theano.sandbox.cuda.use(\"gpu0\")"
   ]
  },
  {
   "cell_type": "code",
   "execution_count": 2,
   "metadata": {
    "collapsed": true
   },
   "outputs": [],
   "source": [
    "from collections import OrderedDict\n",
    "\n",
    "import numpy\n",
    "import theano\n",
    "import theano.tensor as T\n",
    "from theano.sandbox.rng_mrg import MRG_RandomStreams as RandomStreams"
   ]
  },
  {
   "cell_type": "markdown",
   "metadata": {},
   "source": [
    "### Scan\n",
    "\n",
    "Theano ではループのために For 文ではなく、Scan というものを使います　　\n",
    "少しややこしいので、簡単な例を"
   ]
  },
  {
   "cell_type": "code",
   "execution_count": 3,
   "metadata": {
    "collapsed": false
   },
   "outputs": [
    {
     "name": "stdout",
     "output_type": "stream",
     "text": [
      "[ 1.  2.  3.  4.  5.]\n"
     ]
    }
   ],
   "source": [
    "##Suppose you have a sequence [1, 2, 3, 4, 5] let's define identity function with scan\n",
    "x = T.fvector(\"x\")\n",
    "\n",
    "def step(x):\n",
    "    return x\n",
    "\n",
    "h, _ = theano.scan(\n",
    "                       fn=step,\n",
    "                       sequences=x, \n",
    "                       outputs_info=None # 初期値\n",
    "                    )\n",
    "\n",
    "f = theano.function([x], h)\n",
    "\n",
    "print( f(numpy.array([1, 2, 3, 4, 5]).astype(\"float32\")) )"
   ]
  },
  {
   "cell_type": "code",
   "execution_count": 4,
   "metadata": {
    "collapsed": false
   },
   "outputs": [
    {
     "name": "stdout",
     "output_type": "stream",
     "text": [
      "[  1.   3.   6.  10.  15.]\n"
     ]
    }
   ],
   "source": [
    "##Next we define accumulation function\n",
    "x = T.fvector(\"x\")\n",
    "\n",
    "def step(x, h_tm1):\n",
    "    return x + h_tm1\n",
    "\n",
    "h, _ = theano.scan(\n",
    "                       fn=step,\n",
    "                       sequences=x, \n",
    "                       outputs_info=0.0, #Initial value for h\n",
    "                       #go_backwards=True #you might use it for bi-directional RNNs\n",
    "                    )\n",
    "\n",
    "f = theano.function([x], h)\n",
    "\n",
    "print( f(numpy.array([1, 2, 3, 4, 5]).astype(\"float32\")) )"
   ]
  },
  {
   "cell_type": "code",
   "execution_count": 5,
   "metadata": {
    "collapsed": false
   },
   "outputs": [
    {
     "name": "stdout",
     "output_type": "stream",
     "text": [
      "[[  1.   2.   3.   4.   5.]\n",
      " [  2.   4.   6.   8.  10.]\n",
      " [  3.   6.   9.  12.  15.]]\n"
     ]
    }
   ],
   "source": [
    "## Let's do the same thing with matrix, accumulation over column\n",
    "x = T.fmatrix(\"x\")\n",
    "\n",
    "def step(x, h_tm1):\n",
    "    return x + h_tm1\n",
    "\n",
    "h, _ = theano.scan(\n",
    "                       fn=step,\n",
    "                       sequences=x, \n",
    "                       outputs_info=numpy.array([0., 0., 0., 0., 0.]) #Initial value for h, it's better to use T.alloc().\n",
    "                    )\n",
    "\n",
    "f = theano.function([x], h)\n",
    "\n",
    "print( f(numpy.array([[1, 2, 3, 4, 5], [1, 2, 3, 4, 5], [1, 2, 3, 4, 5]]).astype(\"float32\")) )"
   ]
  },
  {
   "cell_type": "code",
   "execution_count": 6,
   "metadata": {
    "collapsed": false
   },
   "outputs": [
    {
     "name": "stdout",
     "output_type": "stream",
     "text": [
      "[[  3.   6.   9.  12.  15.]\n",
      " [  3.   6.   9.  12.  15.]\n",
      " [  3.   6.   9.  12.  15.]]\n"
     ]
    }
   ],
   "source": [
    "## Advanced :: take previous inputs\n",
    "x = T.fmatrix(\"x\")\n",
    "\n",
    "def step(x, h_tm1, h_tm2):\n",
    "    return x + h_tm1 + h_tm2\n",
    "\n",
    "h, _ = theano.scan(\n",
    "                       fn=step,\n",
    "                       sequences=[ dict(input= x, taps = [0, -1, -2])],\n",
    "                       outputs_info=None #Initial value for h\n",
    "                    )\n",
    "\n",
    "f = theano.function([x], h)\n",
    "\n",
    "print(\n",
    "    f(numpy.array([[1, 2, 3, 4, 5], [1, 2, 3, 4, 5], [1, 2, 3, 4, 5], [1, 2, 3, 4, 5], [1, 2, 3, 4, 5]]).astype(\"float32\"))\n",
    ")"
   ]
  },
  {
   "cell_type": "markdown",
   "metadata": {},
   "source": [
    "### [宿題] POS Tagging\n",
    "\n",
    "文が与えられた時、その品詞を予測する RNN を学習します。\n",
    "\n",
    "word2index は単語をIDに変換する辞書、tag2index は品詞をIDに変換する辞書です。  \n",
    "train_data, dev_data には文と品詞タグのペアが入っています。  \n",
    "文の長さと品詞タグの長さは必ず同じです。\n",
    "\n",
    "encode_dataset を使うと単語と品詞をIDに変換することができます。"
   ]
  },
  {
   "cell_type": "code",
   "execution_count": 7,
   "metadata": {
    "collapsed": false
   },
   "outputs": [],
   "source": [
    "from collections import OrderedDict\n",
    "\n",
    "import numpy\n",
    "import theano\n",
    "import theano.tensor as T\n",
    "from theano.sandbox.rng_mrg import MRG_RandomStreams as RandomStreams\n",
    "from sklearn.utils import shuffle\n",
    "from sklearn.metrics import f1_score\n",
    "\n",
    "def load_data(file_path):\n",
    "    dataset = []\n",
    "    vocab, tag = set(), set()\n",
    "    for line in open(file_path):\n",
    "        # \"a pen ||| \" => [['a', 'pen'], ['DT', 'NN']]\n",
    "        instance = [ l.strip().split() for l in line.split('|||') ]\n",
    "        vocab.update(instance[0])\n",
    "        tag.update(instance[1])\n",
    "        dataset.append(instance)\n",
    "    return dataset, vocab, tag\n",
    "\n",
    "def encode_dataset(dataset, word2index, tag2index):\n",
    "    X, y = [], []\n",
    "    vocab = set(word2index.keys())\n",
    "    for sentence, tags in dataset:\n",
    "        X.append([ word2index[word] if word in vocab else word2index['<unk>'] for word in sentence])\n",
    "        y.append([ tag2index[tag] for tag in tags])\n",
    "    return X, y\n",
    "\n",
    "train_data, train_vocab, train_tags = load_data('train.unk')\n",
    "special_words = set(['<unk>']) # 未知の単語に使う\n",
    "\n",
    "# {'a': 1, 'pen': 1}\n",
    "word2index = dict(map(lambda x: (x[1], x[0]), enumerate(train_vocab | special_words)))\n",
    "tag2index  = dict(map(lambda x: (x[1], x[0]), enumerate(train_tags)))"
   ]
  },
  {
   "cell_type": "code",
   "execution_count": 8,
   "metadata": {
    "collapsed": true
   },
   "outputs": [],
   "source": [
    "train_size = len(train_data)\n",
    "train_data, dev_data = train_data[:train_size//10 * 8], train_data[train_size//10 * 8:]"
   ]
  },
  {
   "cell_type": "code",
   "execution_count": 9,
   "metadata": {
    "collapsed": false
   },
   "outputs": [
    {
     "name": "stdout",
     "output_type": "stream",
     "text": [
      "In IN\n",
      "an DT\n",
      "Oct. NNP\n",
      "19 CD\n",
      "review NN\n",
      "of IN\n",
      "`` ``\n",
      "The DT\n",
      "Misanthrope NN\n",
      "'' ''\n",
      "at IN\n",
      "Chicago NNP\n",
      "'s POS\n",
      "Goodman NNP\n",
      "Theatre NNP\n",
      "`` ``\n",
      "Revitalized VBN\n",
      "Classics NNS\n",
      "Take VBP\n",
      "the DT\n",
      "Stage NN\n",
      "in IN\n",
      "Windy NNP\n",
      "City NNP\n",
      ", ,\n",
      "'' ''\n",
      "Leisure NN\n",
      "& CC\n",
      "Arts NNS\n",
      ", ,\n",
      "the DT\n",
      "role NN\n",
      "of IN\n",
      "Celimene NNP\n",
      ", ,\n",
      "played VBN\n",
      "by IN\n",
      "Kim NNP\n",
      "Cattrall NNP\n",
      ", ,\n",
      "was VBD\n",
      "mistakenly RB\n",
      "attributed VBN\n",
      "to TO\n",
      "Christina NNP\n",
      "Haag NNP\n",
      ". .\n"
     ]
    }
   ],
   "source": [
    "# train_data[0] = train.unk の1行目を表示\n",
    "for word, tag in zip(train_data[0][0], train_data[0][1]):\n",
    "    print(word, tag)"
   ]
  },
  {
   "cell_type": "markdown",
   "metadata": {},
   "source": [
    "次のセルを完成させて提出してください　　\n",
    "\n",
    "今回の入力は単語のID列（ベクトル x）と品詞のID列 (ベクトル y)です。  \n",
    "Projection レイヤーを使って、単語をベクトルに変換します。  \n",
    "その後、RNN に入力し、その出力値をSotfmax関数を使って確率分布に変換します。  \n",
    "予測は画像の時とおなじく、最大の確率を持つクラスを予測とします。"
   ]
  },
  {
   "cell_type": "code",
   "execution_count": 10,
   "metadata": {
    "collapsed": true
   },
   "outputs": [],
   "source": [
    "train_X, train_y = encode_dataset(train_data, word2index, tag2index)\n",
    "dev_X  , dev_y   = encode_dataset(dev_data,   word2index, tag2index)\n",
    "\n",
    "rng = numpy.random.RandomState(42)\n",
    "trng = RandomStreams(42)\n",
    "\n",
    "def sharedX(X, dtype=\"float32\"):\n",
    "    '''\n",
    "    Theanoの共有変数を作成する\n",
    "    \n",
    "    :param X: 初期値\n",
    "    :param dtype: 型\n",
    "    :return: theano.shared\n",
    "    '''\n",
    "    return theano.shared(numpy.asarray(X, dtype=dtype))"
   ]
  },
  {
   "cell_type": "markdown",
   "metadata": {},
   "source": [
    "#### Layer"
   ]
  },
  {
   "cell_type": "code",
   "execution_count": 11,
   "metadata": {
    "collapsed": true
   },
   "outputs": [],
   "source": [
    "class Activation:\n",
    "    '''\n",
    "    活性化層\n",
    "    '''\n",
    "    def __init__(self, func):\n",
    "        '''\n",
    "        :param func: 活性化関数\n",
    "        '''\n",
    "        self.func = func\n",
    "        self.params = []\n",
    "\n",
    "    def fprop(self, x):\n",
    "        '''\n",
    "        順伝播\n",
    "        入力を活性化する\n",
    "        \n",
    "        :return: 活性後の値\n",
    "        '''\n",
    "        return self.func(x)"
   ]
  },
  {
   "cell_type": "code",
   "execution_count": 12,
   "metadata": {
    "collapsed": true
   },
   "outputs": [],
   "source": [
    "class Projection:\n",
    "    '''\n",
    "    射影層\n",
    "    '''\n",
    "    def __init__(self, in_dim, out_dim, scale):\n",
    "        '''\n",
    "        :param in_dim: 入力次元\n",
    "        :param out_dim: 出力次元\n",
    "        :param scale:\n",
    "        '''\n",
    "        self.W = sharedX(rng.randn(in_dim, out_dim) * scale)\n",
    "        self.params = [ self.W ]\n",
    "\n",
    "    def fprop(self, x):\n",
    "        '''\n",
    "        順伝播\n",
    "        射影行列を用いて入力を射影する\n",
    "        \n",
    "        :param x: 入力\n",
    "        :return: 射影適用後のベクトル\n",
    "        '''\n",
    "        h = self.W[x]\n",
    "        return h"
   ]
  },
  {
   "cell_type": "code",
   "execution_count": 13,
   "metadata": {
    "collapsed": true
   },
   "outputs": [],
   "source": [
    "class Linear:\n",
    "    '''\n",
    "    入力を線形写像する層\n",
    "    '''\n",
    "    def __init__(self, in_dim, out_dim, scale):\n",
    "        '''\n",
    "        :param in_dim: 入力次元\n",
    "        :param out_dim: 出力次元\n",
    "        :param scale:\n",
    "        '''\n",
    "        self.W = sharedX(rng.randn(in_dim, out_dim) * scale)\n",
    "        self.b = sharedX(rng.randn(out_dim,) * scale)\n",
    "        self.params = [ self.W, self.b ]\n",
    "\n",
    "    def fprop(self, x):\n",
    "        '''\n",
    "        順伝播\n",
    "        \n",
    "        :param x: 入力\n",
    "        :return: レイヤーの出力（入力を恒等写像した値）\n",
    "        '''\n",
    "        h = T.dot(x, self.W) + self.b\n",
    "        return h"
   ]
  },
  {
   "cell_type": "code",
   "execution_count": 14,
   "metadata": {
    "collapsed": true
   },
   "outputs": [],
   "source": [
    "class RNN:\n",
    "    def __init__(self, in_dim, out_dim, scale):\n",
    "        '''\n",
    "        :param in_dim: 入力次元\n",
    "        :param out_dim: 出力次元\n",
    "        :param scale:\n",
    "        '''\n",
    "        self.scale = scale\n",
    "        self.hid_dim = hid_dim\n",
    "\n",
    "        ## 重みの次元を決める。\n",
    "        self.Wx = sharedX(rng.randn(in_dim, out_dim) * scale)\n",
    "        self.Wh = sharedX(rng.randn(out_dim, out_dim) * scale)\n",
    "        self.bh = sharedX(rng.randn(out_dim,) * scale)\n",
    "        ## Initial State をどのように初期化するか\n",
    "        self.h0 = sharedX(numpy.zeros(out_dim,))\n",
    "\n",
    "        self.output_info = [ self.h0 ]\n",
    "        self.params = [ self.Wx, self.Wh, self.bh ]\n",
    "\n",
    "    def fprop(self, x):\n",
    "        '''\n",
    "        順伝播\n",
    "        \n",
    "        :param x: 入力\n",
    "        :return: レイヤーの出力\n",
    "        '''\n",
    "        def step(u_t, h_tm1):\n",
    "            h = T.nnet.sigmoid(T.dot(u_t, self.Wx)  + T.dot(h_tm1, self.Wh) + self.bh)\n",
    "            return h\n",
    "        \n",
    "        ## Scan の方法を考える \n",
    "        h, _ = theano.scan(\n",
    "            fn=step,\n",
    "            sequences=x,\n",
    "            outputs_info=self.h0\n",
    "        )\n",
    "        return h"
   ]
  },
  {
   "cell_type": "markdown",
   "metadata": {},
   "source": [
    "#### Theano functionをコンパイル"
   ]
  },
  {
   "cell_type": "code",
   "execution_count": 15,
   "metadata": {
    "collapsed": true
   },
   "outputs": [],
   "source": [
    "def sgd(cost, params, lr):\n",
    "    '''\n",
    "    stochastic gradient descent\n",
    "    \n",
    "    :param cost: コスト\n",
    "    :param params: パラメータ\n",
    "    :param lr: 学習率\n",
    "    :return: 更新後のパラメータが格納された順序付辞書\n",
    "    '''\n",
    "    gparams = T.grad(cost, params)\n",
    "    updates = OrderedDict()\n",
    "    for param, gparam in zip(params, gparams):\n",
    "        ## Advanced Gradient Glip を実装する　（必須ではない）\n",
    "        updates[param] = param - lr * gparam\n",
    "    return updates"
   ]
  },
  {
   "cell_type": "code",
   "execution_count": 16,
   "metadata": {
    "collapsed": true
   },
   "outputs": [],
   "source": [
    "def prop(layers, x):\n",
    "    '''\n",
    "    レイヤー全体の順伝播\n",
    "    \n",
    "    :param layers: レイヤー全体（レイヤーのリスト）\n",
    "    :param x: 入力\n",
    "    :return: 最終層の出力\n",
    "    '''\n",
    "    for i, layer in enumerate(layers):\n",
    "        if i == 0:\n",
    "            layer_out = layer.fprop(x)\n",
    "        else:\n",
    "            layer_out = layer.fprop(layer_out)\n",
    "    return layer_out"
   ]
  },
  {
   "cell_type": "code",
   "execution_count": 17,
   "metadata": {
    "collapsed": true
   },
   "outputs": [],
   "source": [
    "def get_params(layers):\n",
    "    '''\n",
    "    レイヤーのパラメータを取得する\n",
    "    \n",
    "    :param layers: レイヤー全体（レイヤーのリスト）\n",
    "    :return: パラメータのリスト\n",
    "    '''\n",
    "    params = []\n",
    "    for layer in layers:\n",
    "        params += layer.params\n",
    "    return params"
   ]
  },
  {
   "cell_type": "code",
   "execution_count": 18,
   "metadata": {
    "collapsed": true
   },
   "outputs": [],
   "source": [
    "def get_functions(layers):\n",
    "    '''\n",
    "    訓練、検証、テストに必要なtheano.functionを生成する\n",
    "    \n",
    "    :param layers: レイヤー全体（レイヤーのリスト）\n",
    "    :return: （訓練関数、検証関数、テスト関数）のタプル\n",
    "    '''\n",
    "    x, t = T.lvector(\"x\"), T.lvector(\"t\")\n",
    "\n",
    "    prob = prop(layers, x)\n",
    "    cost = -T.mean(T.log(prob)[T.arange(t.shape[0]), t]) # WRITEME\n",
    "    pred = T.argmax(prob, axis=1) # WRITEME\n",
    "    \n",
    "    ## Collect Parameters\n",
    "    params = get_params(layers) \n",
    "    \n",
    "    ## Define update graph\n",
    "    updates = sgd(cost, params, lr=numpy.float32(0.01)) \n",
    "    \n",
    "    ## Compile Function\n",
    "    train = theano.function([x,t], cost, updates=updates)\n",
    "    valid = theano.function([x,t], [cost, pred])\n",
    "    test  = theano.function([x], pred)\n",
    "    \n",
    "    return train, valid, test"
   ]
  },
  {
   "cell_type": "markdown",
   "metadata": {},
   "source": [
    "#### 実験"
   ]
  },
  {
   "cell_type": "code",
   "execution_count": 19,
   "metadata": {
    "collapsed": true
   },
   "outputs": [],
   "source": [
    "### build Model + Train\n",
    "vocab_size = len(word2index)\n",
    "hid_dim    = 100\n",
    "out_dim    = len(tag2index)"
   ]
  },
  {
   "cell_type": "code",
   "execution_count": null,
   "metadata": {
    "collapsed": false
   },
   "outputs": [],
   "source": [
    "layers = [\n",
    "    Projection(vocab_size, hid_dim, scale=0.09), # scale?\n",
    "    RNN(hid_dim, out_dim, scale=0.5), # scale?\n",
    "    Linear(out_dim, out_dim, scale=0.5), # scale?\n",
    "    Activation(func=T.nnet.softmax)\n",
    "]\n",
    "\n",
    "train, valid, test = get_functions(layers)\n",
    "\n",
    "epochs = 100\n",
    "ret1 = []\n",
    "## Train\n",
    "for epoch in range(epochs):\n",
    "    train_X, train_y = shuffle(train_X, train_y)  # Shuffle Samples !!\n",
    "    for instance_x, instance_y in zip(train_X, train_y):\n",
    "        cost = train(instance_x, instance_y)\n",
    "    \n",
    "    dev_true, dev_pred, costs = [], [], []\n",
    "    for instance_x, instance_y in zip(dev_X, dev_y):\n",
    "        cost, pred = valid(instance_x, instance_y)\n",
    "        dev_pred += list(pred) # 予測結果はベクトル\n",
    "        dev_true += instance_y\n",
    "        costs.append(cost)\n",
    "\n",
    "    if ((epoch+1) % 10 == 0) or (epoch == 0):\n",
    "        ret1.append( (epoch+1, numpy.mean(costs), f1_score(dev_true, dev_pred, average=\"micro\")) )"
   ]
  },
  {
   "cell_type": "code",
   "execution_count": 22,
   "metadata": {
    "collapsed": false
   },
   "outputs": [
    {
     "name": "stdout",
     "output_type": "stream",
     "text": [
      "EPOCH::   1, Validatioon Cost:: 0.856, Validation F1:: 0.770\n",
      "EPOCH::  10, Validatioon Cost:: 0.255, Validation F1:: 0.925\n",
      "EPOCH::  20, Validatioon Cost:: 0.216, Validation F1:: 0.938\n",
      "EPOCH::  30, Validatioon Cost:: 0.211, Validation F1:: 0.941\n",
      "EPOCH::  40, Validatioon Cost:: 0.213, Validation F1:: 0.942\n",
      "EPOCH::  50, Validatioon Cost:: 0.217, Validation F1:: 0.943\n",
      "EPOCH::  60, Validatioon Cost:: 0.223, Validation F1:: 0.943\n",
      "EPOCH::  70, Validatioon Cost:: 0.227, Validation F1:: 0.943\n",
      "EPOCH::  80, Validatioon Cost:: 0.234, Validation F1:: 0.942\n",
      "EPOCH::  90, Validatioon Cost:: 0.241, Validation F1:: 0.942\n",
      "EPOCH:: 100, Validatioon Cost:: 0.249, Validation F1:: 0.941\n"
     ]
    }
   ],
   "source": [
    "for epoch, cost, f1_score in ret1:\n",
    "    print(\"EPOCH:: {:3d}, Validatioon Cost:: {:.3f}, Validation F1:: {:.3f}\".format(\n",
    "                    epoch,\n",
    "                    cost,\n",
    "                    f1_score\n",
    "                ))"
   ]
  }
 ],
 "metadata": {
  "kernelspec": {
   "display_name": "Python 3",
   "language": "python",
   "name": "python3"
  },
  "language_info": {
   "codemirror_mode": {
    "name": "ipython",
    "version": 3
   },
   "file_extension": ".py",
   "mimetype": "text/x-python",
   "name": "python",
   "nbconvert_exporter": "python",
   "pygments_lexer": "ipython3",
   "version": "3.5.1"
  }
 },
 "nbformat": 4,
 "nbformat_minor": 0
}
