{
 "cells": [
  {
   "cell_type": "code",
   "execution_count": 1,
   "metadata": {
    "collapsed": true
   },
   "outputs": [],
   "source": [
    "from gensim.models.word2vec import Word2Vec "
   ]
  },
  {
   "cell_type": "code",
   "execution_count": 2,
   "metadata": {
    "collapsed": true
   },
   "outputs": [],
   "source": [
    "class Corpus:\n",
    "    def __init__(self, file_path):\n",
    "        self.file_path = file_path\n",
    "\n",
    "    def __iter__(self):\n",
    "        for line in open(self.file_path):\n",
    "            instance = [ l.strip().split() for l in line.split('|||') ]\n",
    "            #return format : ['i', 'have', 'a', 'pen']\n",
    "            yield instance[0]"
   ]
  },
  {
   "cell_type": "code",
   "execution_count": 3,
   "metadata": {
    "collapsed": false
   },
   "outputs": [],
   "source": [
    "### 文を返すイテレータを書く\n",
    "sentences = Corpus('train.unk')"
   ]
  },
  {
   "cell_type": "code",
   "execution_count": 4,
   "metadata": {
    "collapsed": false
   },
   "outputs": [],
   "source": [
    "### sg -> Skipgram, hs -> hierachical softmax (not explained), negative -> negative sample size\n",
    "model = Word2Vec(sentences, size=52, window=10, min_count=5, workers=16, sg=1, hs=0, negative=100)"
   ]
  },
  {
   "cell_type": "code",
   "execution_count": 5,
   "metadata": {
    "collapsed": false
   },
   "outputs": [
    {
     "data": {
      "text/plain": [
       "0.98520729136560226"
      ]
     },
     "execution_count": 5,
     "metadata": {},
     "output_type": "execute_result"
    }
   ],
   "source": [
    "### similarity\n",
    "model.similarity('woman', 'man')"
   ]
  },
  {
   "cell_type": "code",
   "execution_count": 6,
   "metadata": {
    "collapsed": false
   },
   "outputs": [
    {
     "data": {
      "text/plain": [
       "[('Stanley', 0.9966878890991211),\n",
       " ('Merrill', 0.9864667654037476),\n",
       " ('Salomon', 0.9846168160438538),\n",
       " ('Brothers', 0.9840356111526489),\n",
       " ('Goldman', 0.9836351275444031),\n",
       " ('Sachs', 0.9813213348388672),\n",
       " ('Peabody', 0.9810459613800049),\n",
       " ('Lynch', 0.9793375730514526),\n",
       " ('Shearson', 0.9760264158248901),\n",
       " ('Stearns', 0.9744541645050049)]"
      ]
     },
     "execution_count": 6,
     "metadata": {},
     "output_type": "execute_result"
    }
   ],
   "source": [
    "#model.most_similar(positive=['bank', 'company'], negative=['money'])\n",
    "model.most_similar(positive=['Morgan'])"
   ]
  }
 ],
 "metadata": {
  "kernelspec": {
   "display_name": "Python 3",
   "language": "python",
   "name": "python3"
  },
  "language_info": {
   "codemirror_mode": {
    "name": "ipython",
    "version": 3
   },
   "file_extension": ".py",
   "mimetype": "text/x-python",
   "name": "python",
   "nbconvert_exporter": "python",
   "pygments_lexer": "ipython3",
   "version": "3.5.0"
  }
 },
 "nbformat": 4,
 "nbformat_minor": 0
}
