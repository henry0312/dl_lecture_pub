{
 "cells": [
  {
   "cell_type": "markdown",
   "metadata": {},
   "source": [
    "# 第3回 演習課題"
   ]
  },
  {
   "cell_type": "markdown",
   "metadata": {},
   "source": [
    "## 課題1．単純パーセプトロンの実装と学習"
   ]
  },
  {
   "cell_type": "code",
   "execution_count": 1,
   "metadata": {
    "collapsed": true
   },
   "outputs": [],
   "source": [
    "import numpy as np\n",
    "from sklearn.utils import shuffle\n",
    "np.random.seed(1234)"
   ]
  },
  {
   "cell_type": "markdown",
   "metadata": {},
   "source": [
    "1.層をLayerクラスとして定義"
   ]
  },
  {
   "cell_type": "code",
   "execution_count": 2,
   "metadata": {
    "collapsed": true
   },
   "outputs": [],
   "source": [
    "class Layer:\n",
    "    def __init__(self,in_dim,out_dim,function):\n",
    "        self.W = np.zeros((in_dim,out_dim))\n",
    "        self.b = np.zeros(out_dim)\n",
    "        self.function = function\n",
    "\n",
    "    #forward propagation\n",
    "    def fprop(self,x):\n",
    "        u = x.dot(self.W) + self.b\n",
    "        z = self.function(u)\n",
    "        return z"
   ]
  },
  {
   "cell_type": "markdown",
   "metadata": {},
   "source": [
    "2.ステップ関数\n",
    "\n",
    "ヒント：ステップ関数\n",
    "\n",
    "* $u\\geq0$のとき，$f(u)=+1$\n",
    "* $u<0$のとき，$f(u)=-1$"
   ]
  },
  {
   "cell_type": "code",
   "execution_count": 3,
   "metadata": {
    "collapsed": false
   },
   "outputs": [],
   "source": [
    "def step(x):\n",
    "    y = np.sign(x)\n",
    "    y[y==0] = 1\n",
    "    return y"
   ]
  },
  {
   "cell_type": "markdown",
   "metadata": {},
   "source": [
    "4.データセットの設定とレイヤーインスタンス"
   ]
  },
  {
   "cell_type": "code",
   "execution_count": 4,
   "metadata": {
    "collapsed": false
   },
   "outputs": [],
   "source": [
    "#OR\n",
    "train_X = np.array([[0,1],[1,0],[0,0],[1,1]])\n",
    "train_y = np.array([[1],[1],[-1],[1]])\n",
    "test_X,test_y = train_X,train_y\n",
    "\n",
    "layer = Layer(2,1,step)"
   ]
  },
  {
   "cell_type": "markdown",
   "metadata": {},
   "source": [
    "5.train関数とtest関数\n",
    "\n",
    "ヒント：パーセプトロン学習則\n",
    "\n",
    "$y_n\\neq d_n$のとき\n",
    "* $w^{(t+1)}=w^{(t)}+\\epsilon x_nd_n$　\n",
    "* $b^{(t+1)}=b^{(t)}+\\epsilon d_n$"
   ]
  },
  {
   "cell_type": "code",
   "execution_count": 5,
   "metadata": {
    "collapsed": true
   },
   "outputs": [],
   "source": [
    "def train(x,d,eps=1):\n",
    "    #forward propagation\n",
    "    y = layer.fprop(x)\n",
    "\n",
    "    #update parameters\n",
    "    if y * d != 1:\n",
    "        layer.W = layer.W + eps*d*x.T\n",
    "        layer.b = layer.b + eps*d\n",
    "\n",
    "def test(x):\n",
    "    y = layer.fprop(x)\n",
    "    return y"
   ]
  },
  {
   "cell_type": "markdown",
   "metadata": {},
   "source": [
    "5.パラメータの更新"
   ]
  },
  {
   "cell_type": "code",
   "execution_count": 6,
   "metadata": {
    "collapsed": false
   },
   "outputs": [
    {
     "name": "stdout",
     "output_type": "stream",
     "text": [
      "[[ 1.]\n",
      " [ 1.]\n",
      " [-1.]\n",
      " [ 1.]]\n"
     ]
    }
   ],
   "source": [
    "#epoch\n",
    "for epoch in range(10):\n",
    "    #online learning\n",
    "    for x,y in zip(train_X,train_y):\n",
    "        train(x[np.newaxis,:],y[np.newaxis,:],eps=1)\n",
    "pred_y = test(test_X)\n",
    "print(pred_y)"
   ]
  },
  {
   "cell_type": "markdown",
   "metadata": {},
   "source": [
    "## 課題2．活性化関数とその微分の実装"
   ]
  },
  {
   "cell_type": "markdown",
   "metadata": {},
   "source": [
    "1.シグモイド関数とその微分"
   ]
  },
  {
   "cell_type": "code",
   "execution_count": 2,
   "metadata": {
    "collapsed": false
   },
   "outputs": [],
   "source": [
    "def sigmoid(x):\n",
    "    return 1.0/(1.0 + np.exp(-x))\n",
    "def diff_sigmoid(x):\n",
    "    v = sigmoid(x)\n",
    "    return v * (1.0 - v)"
   ]
  },
  {
   "cell_type": "markdown",
   "metadata": {},
   "source": [
    "２.ソフトマックス関数とその微分"
   ]
  },
  {
   "cell_type": "code",
   "execution_count": 3,
   "metadata": {
    "collapsed": true
   },
   "outputs": [],
   "source": [
    "def softmax(x):\n",
    "    v = np.exp(x)\n",
    "    return v / np.sum(v, axis=1)[:, np.newaxis]\n",
    "def diff_softmax(x):\n",
    "    v = softmax(x)\n",
    "    return v * (np.ones(x.shape) - v)"
   ]
  },
  {
   "cell_type": "markdown",
   "metadata": {},
   "source": [
    "2.tanh関数とその微分"
   ]
  },
  {
   "cell_type": "code",
   "execution_count": 4,
   "metadata": {
    "collapsed": true
   },
   "outputs": [],
   "source": [
    "def tanh(x):\n",
    "    return np.tanh(x)\n",
    "def diff_tanh(x):\n",
    "    v = tahnh(x)\n",
    "    return 1 - v*v"
   ]
  },
  {
   "cell_type": "markdown",
   "metadata": {},
   "source": [
    "## 課題3．多層パーセプトロンの実装と学習"
   ]
  },
  {
   "cell_type": "markdown",
   "metadata": {
    "collapsed": true
   },
   "source": [
    "1.Layerクラス"
   ]
  },
  {
   "cell_type": "code",
   "execution_count": 29,
   "metadata": {
    "collapsed": false
   },
   "outputs": [],
   "source": [
    "class Layer:\n",
    "    def __init__(self,in_dim,out_dim,function,diff_function):\n",
    "        #Xavier\n",
    "        self.W = np.random.uniform(\n",
    "                                    low=-np.sqrt(6./(in_dim+out_dim)), \n",
    "                                    high=np.sqrt(6./(in_dim+out_dim)), \n",
    "                                    size=(in_dim, out_dim))\n",
    "        self.b = np.zeros(out_dim)\n",
    "        self.function = function\n",
    "        \n",
    "        self.diff_function = diff_function\n",
    "        self.u     = None\n",
    "        self.delta = None\n",
    "\n",
    "    #forward propagation\n",
    "    def fprop(self,x):\n",
    "        self.u = np.dot(x, self.W) + self.b\n",
    "        z = self.function(self.u)\n",
    "        return z\n",
    "\n",
    "    #back propagation\n",
    "    def bprop(self,delta,W):\n",
    "        self.delta = self.diff_function(self.u) * delta.dot(W.T)\n",
    "        return self.delta"
   ]
  },
  {
   "cell_type": "markdown",
   "metadata": {},
   "source": [
    "2.ネットワーク全体の順伝播"
   ]
  },
  {
   "cell_type": "code",
   "execution_count": 30,
   "metadata": {
    "collapsed": true
   },
   "outputs": [],
   "source": [
    "def fprops(layers, x):\n",
    "    z = x\n",
    "    for layer in layers:\n",
    "        z = layer.fprop(z)    \n",
    "    return z"
   ]
  },
  {
   "cell_type": "markdown",
   "metadata": {},
   "source": [
    "3.ネットワーク全体の誤差逆伝播"
   ]
  },
  {
   "cell_type": "code",
   "execution_count": 31,
   "metadata": {
    "collapsed": true
   },
   "outputs": [],
   "source": [
    "def bprops(layers, delta):\n",
    "    for i,layer in enumerate(layers[::-1]):\n",
    "        if i == 0:\n",
    "            layer.delta = delta\n",
    "        else:\n",
    "            delta = layer.bprop(delta, _W)\n",
    "        _W = layer.W"
   ]
  },
  {
   "cell_type": "markdown",
   "metadata": {},
   "source": [
    "4.データセットの設定とネットワークの定義"
   ]
  },
  {
   "cell_type": "code",
   "execution_count": 32,
   "metadata": {
    "collapsed": false
   },
   "outputs": [],
   "source": [
    "#XOR\n",
    "train_X = np.array([[0,1],[1,0],[0,0],[1,1]])\n",
    "train_y = np.array([[1],[1],[0],[0]])\n",
    "test_X,test_y = train_X,train_y\n",
    "\n",
    "layers = [Layer(2,3,sigmoid,diff_sigmoid),\n",
    "          Layer(3,1,sigmoid,diff_sigmoid)]"
   ]
  },
  {
   "cell_type": "markdown",
   "metadata": {},
   "source": [
    "5.train関数とtest関数"
   ]
  },
  {
   "cell_type": "code",
   "execution_count": 33,
   "metadata": {
    "collapsed": false
   },
   "outputs": [],
   "source": [
    "def train(X,d,eps=1):\n",
    "    #forward propagation\n",
    "    y = fprops(layers,X)\n",
    "        \n",
    "    #cost function & delta\n",
    "    cost = np.sum(-d * np.log(y) - (1 - d) * np.log(1 - y))\n",
    "    delta = y - d\n",
    "    \n",
    "    #back propagation\n",
    "    bprops(layers,delta)\n",
    "\n",
    "    #update parameters\n",
    "    z = X\n",
    "    for layer in layers:\n",
    "        dW = np.dot(z.T, layer.delta)  # P.52\n",
    "        db = np.dot(np.ones(len(z)),layer.delta)  # P.52\n",
    "\n",
    "        layer.W = layer.W - eps*dW\n",
    "        layer.b = layer.b - eps*db\n",
    "\n",
    "        z = layer.fprop(z)\n",
    "        \n",
    "    #train cost\n",
    "    y = fprops(layers,X)\n",
    "    cost = np.sum(-d * np.log(y) - (1 - d) * np.log(1 - y)) # (2.8)\n",
    "    \n",
    "    return cost\n",
    "\n",
    "def test(X,d):\n",
    "    #test cost\n",
    "    y = fprops(layers,X)\n",
    "    cost = np.sum(-d * np.log(y) - (1 - d) * np.log(1 - y))\n",
    "    return cost,y"
   ]
  },
  {
   "cell_type": "markdown",
   "metadata": {},
   "source": [
    "6.パラメータの更新"
   ]
  },
  {
   "cell_type": "code",
   "execution_count": 41,
   "metadata": {
    "collapsed": false
   },
   "outputs": [
    {
     "name": "stdout",
     "output_type": "stream",
     "text": [
      "[[  9.98639156e-01]\n",
      " [  9.98644379e-01]\n",
      " [  4.48392422e-04]\n",
      " [  2.90083746e-03]]\n"
     ]
    }
   ],
   "source": [
    "#epoch\n",
    "for epoch in range(100):\n",
    "    #online learning\n",
    "    train_X, train_y = shuffle(train_X, train_y)\n",
    "    train(train_X, train_y)\n",
    "    #for x,y in zip(train_X,train_y):\n",
    "    #    train(x[np.newaxis,:],y[np.newaxis,:])\n",
    "    n,pred_y = test(test_X,test_y)\n",
    "print(pred_y)"
   ]
  },
  {
   "cell_type": "markdown",
   "metadata": {},
   "source": [
    "## 宿題．MNISTデータセットを多層パーセプトロンで学習"
   ]
  },
  {
   "cell_type": "markdown",
   "metadata": {},
   "source": [
    "ヒント\n",
    "* 出力yはone-of-k表現\n",
    "* 最終層の活性化関数はsoftmax関数，誤差関数は多クラス交差エントロピー\n",
    "* 最終層のデルタは教科書参照"
   ]
  },
  {
   "cell_type": "code",
   "execution_count": 5,
   "metadata": {
    "collapsed": false
   },
   "outputs": [],
   "source": [
    "from sklearn.utils import shuffle\n",
    "from sklearn.cross_validation import train_test_split\n",
    "from sklearn.metrics import f1_score"
   ]
  },
  {
   "cell_type": "code",
   "execution_count": 6,
   "metadata": {
    "collapsed": true
   },
   "outputs": [],
   "source": [
    "from sklearn.datasets import fetch_mldata\n",
    "mnist = fetch_mldata('MNIST original')"
   ]
  },
  {
   "cell_type": "code",
   "execution_count": 31,
   "metadata": {
    "collapsed": false
   },
   "outputs": [],
   "source": [
    "mnist_x, mnist_y = shuffle(mnist.data.astype(\"float32\")/255.0, mnist.target.astype(\"int32\"))\n",
    "train_x, test_x, train_y, test_y = train_test_split(mnist_x, mnist_y, test_size=0.2, random_state=42)"
   ]
  },
  {
   "cell_type": "code",
   "execution_count": 32,
   "metadata": {
    "collapsed": false
   },
   "outputs": [],
   "source": [
    "# one-of-k表現に変換\n",
    "from sklearn.preprocessing import LabelBinarizer\n",
    "train_label_y = LabelBinarizer().fit_transform(train_y)\n",
    "test_label_y = LabelBinarizer().fit_transform(test_y)"
   ]
  },
  {
   "cell_type": "markdown",
   "metadata": {},
   "source": [
    "### Layerクラス"
   ]
  },
  {
   "cell_type": "code",
   "execution_count": 9,
   "metadata": {
    "collapsed": false
   },
   "outputs": [],
   "source": [
    "class Layer:\n",
    "    def __init__(self, in_dim, out_dim, function, diff_function):\n",
    "        #Xavier\n",
    "        self.W = np.random.uniform(low=-np.sqrt(6./(in_dim+out_dim)), \n",
    "                                   high=np.sqrt(6./(in_dim+out_dim)), \n",
    "                                   size=(in_dim, out_dim)).astype('float32')\n",
    "        self.b = np.zeros(out_dim)\n",
    "        self.function = function\n",
    "        \n",
    "        self.diff_function = diff_function\n",
    "        self.u     = None\n",
    "        self.delta = None\n",
    "\n",
    "    #forward propagation\n",
    "    def fprop(self,x):\n",
    "        self.u = np.dot(x, self.W) + self.b\n",
    "        z = self.function(self.u)\n",
    "        return z\n",
    "\n",
    "    #back propagation\n",
    "    def bprop(self,delta,W):\n",
    "        self.delta = self.diff_function(self.u) * np.dot(delta, W.T)\n",
    "        return self.delta"
   ]
  },
  {
   "cell_type": "markdown",
   "metadata": {},
   "source": [
    "### ネットワーク全体の順伝播"
   ]
  },
  {
   "cell_type": "code",
   "execution_count": 10,
   "metadata": {
    "collapsed": true
   },
   "outputs": [],
   "source": [
    "def fprops(layers, x):\n",
    "    z = x\n",
    "    for layer in layers:\n",
    "        z = layer.fprop(z)    \n",
    "    return z"
   ]
  },
  {
   "cell_type": "markdown",
   "metadata": {},
   "source": [
    "### ネットワーク全体の誤差逆伝播"
   ]
  },
  {
   "cell_type": "code",
   "execution_count": 11,
   "metadata": {
    "collapsed": true
   },
   "outputs": [],
   "source": [
    "def bprops(layers, delta):\n",
    "    for i,layer in enumerate(layers[::-1]):\n",
    "        if i == 0:\n",
    "            layer.delta = delta\n",
    "        else:\n",
    "            delta = layer.bprop(delta, _W)\n",
    "        _W = layer.W"
   ]
  },
  {
   "cell_type": "markdown",
   "metadata": {},
   "source": [
    "### ネットワークの定義"
   ]
  },
  {
   "cell_type": "code",
   "execution_count": 39,
   "metadata": {
    "collapsed": false
   },
   "outputs": [],
   "source": [
    "layers = [\n",
    "    Layer(784, 500, sigmoid, diff_sigmoid),\n",
    "    Layer(500, 500, sigmoid, diff_sigmoid),\n",
    "    Layer(500, 10, softmax, diff_softmax),\n",
    "]"
   ]
  },
  {
   "cell_type": "markdown",
   "metadata": {},
   "source": [
    "### train関数とtest関数"
   ]
  },
  {
   "cell_type": "code",
   "execution_count": 40,
   "metadata": {
    "collapsed": true
   },
   "outputs": [],
   "source": [
    "def train(X, d, eps=0.1):\n",
    "    # forward propagation\n",
    "    y = fprops(layers, X)\n",
    "\n",
    "    # 出力層のdelta\n",
    "    delta = y - d\n",
    "    \n",
    "    # back propagation\n",
    "    bprops(layers, delta)\n",
    "\n",
    "    # update parameters\n",
    "    z = X\n",
    "    for layer in layers:\n",
    "        dW = np.dot(z.T, layer.delta) / X.shape[0] # P.52\n",
    "        db = np.dot(np.ones(len(z)), layer.delta) / X.shape[0] # P.52\n",
    "\n",
    "        layer.W = layer.W - eps*dW\n",
    "        layer.b = layer.b - eps*db\n",
    "\n",
    "        z = layer.fprop(z)\n",
    "        \n",
    "    # train cost\n",
    "    #y = fprops(layers, X)\n",
    "    #cost = -np.sum(d * np.log(y)) # (2.11)\n",
    "    #return cost\n",
    "\n",
    "def test(X, d):\n",
    "    # test cost\n",
    "    y = fprops(layers, X)\n",
    "    cost = -np.sum(d * np.log(y)) # (2.11)\n",
    "    return cost, y"
   ]
  },
  {
   "cell_type": "markdown",
   "metadata": {},
   "source": [
    "### パラメータの更新"
   ]
  },
  {
   "cell_type": "markdown",
   "metadata": {},
   "source": [
    "#### オンライン学習\n",
    "\n",
    "`train_x`の行毎に学習する"
   ]
  },
  {
   "cell_type": "code",
   "execution_count": null,
   "metadata": {
    "collapsed": false
   },
   "outputs": [
    {
     "name": "stdout",
     "output_type": "stream",
     "text": [
      "EPOCH::   1, Validatioon Cost:: 3220.633, Validation F1:: 0.935\n",
      "EPOCH::  10, Validatioon Cost:: 1379.637, Validation F1:: 0.972\n",
      "EPOCH::  20, Validatioon Cost:: 1739.872, Validation F1:: 0.976\n",
      "EPOCH::  30, Validatioon Cost:: 1763.878, Validation F1:: 0.980\n",
      "EPOCH::  40, Validatioon Cost:: 1862.736, Validation F1:: 0.980\n",
      "EPOCH::  50, Validatioon Cost:: 1919.475, Validation F1:: 0.980\n"
     ]
    }
   ],
   "source": [
    "# epoch\n",
    "for epoch in range(50):\n",
    "    X, Y = shuffle(train_x, train_label_y)\n",
    "    for x, y in zip(X, Y):\n",
    "        train(x[np.newaxis,:], y[np.newaxis,:], 0.01)\n",
    "\n",
    "    #if True:\n",
    "    if ((epoch+1) % 10 == 0) or (epoch == 0):\n",
    "        cost, pred_y = test(test_x, test_label_y)\n",
    "        pred = np.argmax(pred_y, axis=1)\n",
    "        print(\"EPOCH:: {:3d}, Validatioon Cost:: {:.3f}, Validation F1:: {:.3f}\".format(epoch+1,\n",
    "                                                                                     float(cost),\n",
    "                                                                                     f1_score(test_y, pred, average=\"micro\")))"
   ]
  },
  {
   "cell_type": "markdown",
   "metadata": {},
   "source": [
    "#### ミニバッチ学習\n",
    "\n",
    "教科書 3.3節"
   ]
  },
  {
   "cell_type": "code",
   "execution_count": 41,
   "metadata": {
    "collapsed": false
   },
   "outputs": [
    {
     "name": "stdout",
     "output_type": "stream",
     "text": [
      "EPOCH::   1, Validatioon Cost:: 31103.659, Validation F1:: 0.319\n",
      "EPOCH::  10, Validatioon Cost:: 9508.765, Validation F1:: 0.829\n",
      "EPOCH::  20, Validatioon Cost:: 5979.770, Validation F1:: 0.883\n",
      "EPOCH::  30, Validatioon Cost:: 5103.961, Validation F1:: 0.898\n",
      "EPOCH::  40, Validatioon Cost:: 4694.852, Validation F1:: 0.905\n",
      "EPOCH::  50, Validatioon Cost:: 4464.803, Validation F1:: 0.910\n",
      "EPOCH::  60, Validatioon Cost:: 4293.919, Validation F1:: 0.913\n",
      "EPOCH::  70, Validatioon Cost:: 4161.937, Validation F1:: 0.914\n",
      "EPOCH::  80, Validatioon Cost:: 4069.268, Validation F1:: 0.917\n",
      "EPOCH::  90, Validatioon Cost:: 3966.292, Validation F1:: 0.918\n",
      "EPOCH:: 100, Validatioon Cost:: 3900.359, Validation F1:: 0.919\n",
      "EPOCH:: 110, Validatioon Cost:: 3788.660, Validation F1:: 0.922\n",
      "EPOCH:: 120, Validatioon Cost:: 3710.749, Validation F1:: 0.924\n",
      "EPOCH:: 130, Validatioon Cost:: 3648.865, Validation F1:: 0.925\n",
      "EPOCH:: 140, Validatioon Cost:: 3536.552, Validation F1:: 0.928\n",
      "EPOCH:: 150, Validatioon Cost:: 3462.200, Validation F1:: 0.928\n",
      "EPOCH:: 160, Validatioon Cost:: 3379.872, Validation F1:: 0.931\n",
      "EPOCH:: 170, Validatioon Cost:: 3277.325, Validation F1:: 0.933\n",
      "EPOCH:: 180, Validatioon Cost:: 3203.356, Validation F1:: 0.934\n",
      "EPOCH:: 190, Validatioon Cost:: 3104.969, Validation F1:: 0.936\n",
      "EPOCH:: 200, Validatioon Cost:: 3022.341, Validation F1:: 0.939\n",
      "EPOCH:: 210, Validatioon Cost:: 2943.168, Validation F1:: 0.940\n",
      "EPOCH:: 220, Validatioon Cost:: 2863.635, Validation F1:: 0.942\n",
      "EPOCH:: 230, Validatioon Cost:: 2799.506, Validation F1:: 0.943\n",
      "EPOCH:: 240, Validatioon Cost:: 2717.834, Validation F1:: 0.945\n",
      "EPOCH:: 250, Validatioon Cost:: 2661.317, Validation F1:: 0.945\n",
      "EPOCH:: 260, Validatioon Cost:: 2608.059, Validation F1:: 0.946\n",
      "EPOCH:: 270, Validatioon Cost:: 2537.382, Validation F1:: 0.947\n",
      "EPOCH:: 280, Validatioon Cost:: 2484.371, Validation F1:: 0.949\n",
      "EPOCH:: 290, Validatioon Cost:: 2417.638, Validation F1:: 0.949\n",
      "EPOCH:: 300, Validatioon Cost:: 2369.167, Validation F1:: 0.949\n"
     ]
    }
   ],
   "source": [
    "## Iterate\n",
    "batch_size = 100\n",
    "nbatches = train_x.shape[0] // batch_size\n",
    "\n",
    "for epoch in range(300):\n",
    "    x, y = shuffle(train_x, train_label_y)\n",
    "    for i in range(nbatches):\n",
    "        start = i * batch_size\n",
    "        end = start + batch_size\n",
    "        train(x[start:end], y[start:end], 0.01)\n",
    "\n",
    "    #if True:\n",
    "    if ((epoch+1) % 10 == 0) or (epoch == 0):\n",
    "        cost, pred_y = test(test_x, test_label_y)\n",
    "        pred = np.argmax(pred_y, axis=1)\n",
    "        print(\"EPOCH:: {:3d}, Validatioon Cost:: {:.3f}, Validation F1:: {:.3f}\".format(epoch+1,\n",
    "                                                                                     float(cost),\n",
    "                                                                                     f1_score(test_y, pred, average=\"micro\")))"
   ]
  },
  {
   "cell_type": "code",
   "execution_count": 42,
   "metadata": {
    "collapsed": false
   },
   "outputs": [
    {
     "name": "stdout",
     "output_type": "stream",
     "text": [
      "[[1323    0    0    2    3    9   12    3    9    3]\n",
      " [   0 1502    7    4    2    5    0    4    6    1]\n",
      " [   7    7 1314   16    6    4   13   15   10    2]\n",
      " [   5   11   24 1348    3   28    6   10   19    6]\n",
      " [   1    3    5    1 1269    0   15    5    6   36]\n",
      " [   9    4    1   16    6 1162   13    3   17   11]\n",
      " [   7    2    6    0    8   14 1340    2    4    0]\n",
      " [   3    8   15    4    6    5    0 1410    0   28]\n",
      " [   2   14    8   19    6   17   13    1 1294   11]\n",
      " [   8    6    2    8   33    4    0   20   10 1330]]\n",
      "             precision    recall  f1-score   support\n",
      "\n",
      "          0       0.97      0.97      0.97      1364\n",
      "          1       0.96      0.98      0.97      1531\n",
      "          2       0.95      0.94      0.95      1394\n",
      "          3       0.95      0.92      0.94      1460\n",
      "          4       0.95      0.95      0.95      1341\n",
      "          5       0.93      0.94      0.93      1242\n",
      "          6       0.95      0.97      0.96      1383\n",
      "          7       0.96      0.95      0.96      1479\n",
      "          8       0.94      0.93      0.94      1385\n",
      "          9       0.93      0.94      0.93      1421\n",
      "\n",
      "avg / total       0.95      0.95      0.95     14000\n",
      "\n"
     ]
    }
   ],
   "source": [
    "# テストデータを用いて予測精度を計算\n",
    "from sklearn.metrics import confusion_matrix, classification_report\n",
    "pred = [np.argmax(v) for v in pred_y]\n",
    "print(confusion_matrix(test_y, pred))\n",
    "print(classification_report(test_y, pred))"
   ]
  }
 ],
 "metadata": {
  "kernelspec": {
   "display_name": "Python 3",
   "language": "python",
   "name": "python3"
  },
  "language_info": {
   "codemirror_mode": {
    "name": "ipython",
    "version": 3
   },
   "file_extension": ".py",
   "mimetype": "text/x-python",
   "name": "python",
   "nbconvert_exporter": "python",
   "pygments_lexer": "ipython3",
   "version": "3.5.0"
  }
 },
 "nbformat": 4,
 "nbformat_minor": 0
}
