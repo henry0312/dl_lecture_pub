{
 "cells": [
  {
   "cell_type": "markdown",
   "metadata": {},
   "source": [
    "# 第3回 演習課題"
   ]
  },
  {
   "cell_type": "markdown",
   "metadata": {},
   "source": [
    "## 課題1．単純パーセプトロンの実装と学習"
   ]
  },
  {
   "cell_type": "code",
   "execution_count": 1,
   "metadata": {
    "collapsed": true
   },
   "outputs": [],
   "source": [
    "import numpy as np\n",
    "from sklearn.utils import shuffle\n",
    "np.random.seed(1234)"
   ]
  },
  {
   "cell_type": "markdown",
   "metadata": {},
   "source": [
    "1.層をLayerクラスとして定義"
   ]
  },
  {
   "cell_type": "code",
   "execution_count": 2,
   "metadata": {
    "collapsed": true
   },
   "outputs": [],
   "source": [
    "class Layer:\n",
    "    def __init__(self,in_dim,out_dim,function):\n",
    "        self.W = np.zeros((in_dim,out_dim))\n",
    "        self.b = np.zeros(out_dim)\n",
    "        self.function = function\n",
    "\n",
    "    #forward propagation\n",
    "    def fprop(self,x):\n",
    "        u = x.dot(self.W) + self.b\n",
    "        z = self.function(u)\n",
    "        return z"
   ]
  },
  {
   "cell_type": "markdown",
   "metadata": {},
   "source": [
    "2.ステップ関数\n",
    "\n",
    "ヒント：ステップ関数\n",
    "\n",
    "* $u\\geq0$のとき，$f(u)=+1$\n",
    "* $u<0$のとき，$f(u)=-1$"
   ]
  },
  {
   "cell_type": "code",
   "execution_count": 3,
   "metadata": {
    "collapsed": false
   },
   "outputs": [],
   "source": [
    "def step(x):\n",
    "    y = np.sign(x)\n",
    "    y[y==0] = 1\n",
    "    return y"
   ]
  },
  {
   "cell_type": "markdown",
   "metadata": {},
   "source": [
    "4.データセットの設定とレイヤーインスタンス"
   ]
  },
  {
   "cell_type": "code",
   "execution_count": 17,
   "metadata": {
    "collapsed": false
   },
   "outputs": [],
   "source": [
    "#OR\n",
    "train_X = np.array([[0,1],[1,0],[0,0],[1,1]])\n",
    "train_y = np.array([[1],[1],[-1],[1]])\n",
    "test_X,test_y = train_X,train_y\n",
    "\n",
    "layer = Layer(2,1,step)"
   ]
  },
  {
   "cell_type": "markdown",
   "metadata": {},
   "source": [
    "5.train関数とtest関数\n",
    "\n",
    "ヒント：パーセプトロン学習則\n",
    "\n",
    "$y_n\\neq d_n$のとき\n",
    "* $w^{(t+1)}=w^{(t)}+\\epsilon x_nd_n$　\n",
    "* $b^{(t+1)}=b^{(t)}+\\epsilon d_n$"
   ]
  },
  {
   "cell_type": "code",
   "execution_count": 18,
   "metadata": {
    "collapsed": true
   },
   "outputs": [],
   "source": [
    "def train(x,d,eps=1):\n",
    "    #forward propagation\n",
    "    y = layer.fprop(x)\n",
    "\n",
    "    #update parameters\n",
    "    if y * d != 1:\n",
    "        layer.W = layer.W + eps*d*x.T\n",
    "        layer.b = layer.b + eps*d\n",
    "\n",
    "def test(x):\n",
    "    y = layer.fprop(x)\n",
    "    return y"
   ]
  },
  {
   "cell_type": "markdown",
   "metadata": {},
   "source": [
    "5.パラメータの更新"
   ]
  },
  {
   "cell_type": "code",
   "execution_count": 19,
   "metadata": {
    "collapsed": false
   },
   "outputs": [
    {
     "name": "stdout",
     "output_type": "stream",
     "text": [
      "[[ 1.]\n",
      " [ 1.]\n",
      " [-1.]\n",
      " [ 1.]]\n"
     ]
    }
   ],
   "source": [
    "#epoch\n",
    "for epoch in range(10):\n",
    "    #online learning\n",
    "    for x,y in zip(train_X,train_y):\n",
    "        train(x[np.newaxis,:],y[np.newaxis,:],eps=1)\n",
    "pred_y = test(test_X)\n",
    "print(pred_y)"
   ]
  },
  {
   "cell_type": "markdown",
   "metadata": {},
   "source": [
    "## 課題2．活性化関数とその微分の実装"
   ]
  },
  {
   "cell_type": "markdown",
   "metadata": {},
   "source": [
    "1.シグモイド関数とその微分"
   ]
  },
  {
   "cell_type": "code",
   "execution_count": 21,
   "metadata": {
    "collapsed": false
   },
   "outputs": [],
   "source": [
    "def sigmoid(x):\n",
    "    return 1.0/(1.0 + np.exp(-x))\n",
    "def diff_sigmoid(x):\n",
    "    v = sigmoid(x)\n",
    "    return v * (1.0 - v)"
   ]
  },
  {
   "cell_type": "markdown",
   "metadata": {},
   "source": [
    "２.ソフトマックス関数とその微分"
   ]
  },
  {
   "cell_type": "code",
   "execution_count": 22,
   "metadata": {
    "collapsed": true
   },
   "outputs": [],
   "source": [
    "def softmax(x):\n",
    "    v = np.exp(x)\n",
    "    return v / np.sum(v, axis=1)[:, np.newaxis]\n",
    "def diff_softmax(x):\n",
    "    v = softmax(x)\n",
    "    return v * (np.ones(x.shape) - v)"
   ]
  },
  {
   "cell_type": "markdown",
   "metadata": {},
   "source": [
    "2.tanh関数とその微分"
   ]
  },
  {
   "cell_type": "code",
   "execution_count": 26,
   "metadata": {
    "collapsed": true
   },
   "outputs": [],
   "source": [
    "def tanh(x):\n",
    "    return np.tanh(x)\n",
    "def diff_tanh(x):\n",
    "    v = tahnh(x)\n",
    "    return 1 - v*v"
   ]
  },
  {
   "cell_type": "markdown",
   "metadata": {},
   "source": [
    "## 課題3．多層パーセプトロンの実装と学習"
   ]
  },
  {
   "cell_type": "markdown",
   "metadata": {
    "collapsed": true
   },
   "source": [
    "1.Layerクラス"
   ]
  },
  {
   "cell_type": "code",
   "execution_count": 28,
   "metadata": {
    "collapsed": false
   },
   "outputs": [],
   "source": [
    "class Layer:\n",
    "    def __init__(self,in_dim,out_dim,function,diff_function):\n",
    "        #Xavier\n",
    "        self.W = np.random.uniform(\n",
    "                                    low=-np.sqrt(6./(in_dim+out_dim)), \n",
    "                                    high=np.sqrt(6./(in_dim+out_dim)), \n",
    "                                    size=(in_dim, out_dim))\n",
    "        self.b = np.zeros(out_dim)\n",
    "        self.function = function\n",
    "        \n",
    "        self.diff_function = diff_function\n",
    "        self.u     = None\n",
    "        self.delta = None\n",
    "\n",
    "    #forward propagation\n",
    "    def fprop(self,x):\n",
    "        self.u = np.dot(x, self.W) + self.b\n",
    "        z = self.function(self.u)\n",
    "        return z\n",
    "\n",
    "    #back propagation\n",
    "    def bprop(self,delta,W):\n",
    "        self.delta = self.diff_function(self.u) * delta.dot(W.T)\n",
    "        return self.delta"
   ]
  },
  {
   "cell_type": "markdown",
   "metadata": {},
   "source": [
    "2.ネットワーク全体の順伝播"
   ]
  },
  {
   "cell_type": "code",
   "execution_count": 29,
   "metadata": {
    "collapsed": true
   },
   "outputs": [],
   "source": [
    "def fprops(layers, x):\n",
    "    z = x\n",
    "    for layer in layers:\n",
    "        z = layer.fprop(z)    \n",
    "    return z"
   ]
  },
  {
   "cell_type": "markdown",
   "metadata": {},
   "source": [
    "3.ネットワーク全体の誤差逆伝播"
   ]
  },
  {
   "cell_type": "code",
   "execution_count": 30,
   "metadata": {
    "collapsed": true
   },
   "outputs": [],
   "source": [
    "def bprops(layers, delta):\n",
    "    for i,layer in enumerate(layers[::-1]):\n",
    "        if i == 0:\n",
    "            layer.delta = delta\n",
    "        else:\n",
    "            delta = layer.bprop(delta, _W)\n",
    "        _W = layer.W"
   ]
  },
  {
   "cell_type": "markdown",
   "metadata": {},
   "source": [
    "4.データセットの設定とネットワークの定義"
   ]
  },
  {
   "cell_type": "code",
   "execution_count": 31,
   "metadata": {
    "collapsed": false
   },
   "outputs": [],
   "source": [
    "#XOR\n",
    "train_X = np.array([[0,1],[1,0],[0,0],[1,1]])\n",
    "train_y = np.array([[1],[1],[0],[0]])\n",
    "test_X,test_y = train_X,train_y\n",
    "\n",
    "layers = [Layer(2,3,sigmoid,diff_sigmoid),\n",
    "          Layer(3,1,sigmoid,diff_sigmoid)]"
   ]
  },
  {
   "cell_type": "markdown",
   "metadata": {},
   "source": [
    "5.train関数とtest関数"
   ]
  },
  {
   "cell_type": "code",
   "execution_count": 53,
   "metadata": {
    "collapsed": false
   },
   "outputs": [],
   "source": [
    "def train(X,d,eps=1):\n",
    "    #forward propagation\n",
    "    y = fprops(layers,X)\n",
    "        \n",
    "    #cost function & delta\n",
    "    cost = np.sum(-d * np.log(y) - (1 - d) * np.log(1 - y))\n",
    "    delta = y - d\n",
    "    \n",
    "    #back propagation\n",
    "    bprops(layers,delta)\n",
    "\n",
    "    #update parameters\n",
    "    z = X\n",
    "    for layer in layers:\n",
    "        dW = np.dot(z.T, layer.delta)  # P.52\n",
    "        db = np.dot(np.ones(len(z)),layer.delta)  # P.52\n",
    "\n",
    "        layer.W = layer.W - eps*dW\n",
    "        layer.b = layer.b - eps*db\n",
    "\n",
    "        z = layer.fprop(z)\n",
    "        \n",
    "    #train cost\n",
    "    y = fprops(layers,X)\n",
    "    cost = np.sum(-d * np.log(y) - (1 - d) * np.log(1 - y))\n",
    "    \n",
    "    return cost\n",
    "\n",
    "def test(X,d):\n",
    "    #test cost\n",
    "    y = fprops(layers,X)\n",
    "    cost = np.sum(-d * np.log(y) - (1 - d) * np.log(1 - y))\n",
    "    return cost,y"
   ]
  },
  {
   "cell_type": "markdown",
   "metadata": {},
   "source": [
    "6.パラメータの更新"
   ]
  },
  {
   "cell_type": "code",
   "execution_count": 52,
   "metadata": {
    "collapsed": false
   },
   "outputs": [
    {
     "name": "stdout",
     "output_type": "stream",
     "text": [
      "[[ 0.01333522]]\n",
      "[[ 0.07146602]]\n",
      "[[ 0.96116923]]\n",
      "[[ 0.96263244]]\n",
      "[[ 0.96631323]\n",
      " [ 0.96645907]\n",
      " [ 0.01326808]\n",
      " [ 0.07223139]]\n"
     ]
    }
   ],
   "source": [
    "#epoch\n",
    "for epoch in range(1):\n",
    "    #online learning\n",
    "    train_X, train_y = shuffle(train_X, train_y)\n",
    "    for x,y in zip(train_X,train_y):\n",
    "        train(x[np.newaxis,:],y[np.newaxis,:])\n",
    "    cost,pred_y = test(test_X,test_y)\n",
    "print(pred_y)"
   ]
  },
  {
   "cell_type": "code",
   "execution_count": 55,
   "metadata": {
    "collapsed": false
   },
   "outputs": [
    {
     "name": "stdout",
     "output_type": "stream",
     "text": [
      "(4, 2)\n",
      "[[0 0]\n",
      " [1 1]\n",
      " [1 0]\n",
      " [0 1]]\n",
      "(2, 3)\n",
      "[[-4.15840954 -5.6538648   3.73025822]\n",
      " [-4.0622834   3.8685367  -5.57080021]]\n",
      "[[ 0.00699668 -0.02678873 -0.00020463]]\n",
      "(1, 3)\n"
     ]
    },
    {
     "data": {
      "text/plain": [
       "array([[ 0.        ,  0.        ,  0.        ],\n",
       "       [-8.22069294, -1.7853281 , -1.84054199],\n",
       "       [-4.15840954, -5.6538648 ,  3.73025822],\n",
       "       [-4.0622834 ,  3.8685367 , -5.57080021]])"
      ]
     },
     "execution_count": 55,
     "metadata": {},
     "output_type": "execute_result"
    }
   ],
   "source": [
    "print(train_X.shape)\n",
    "print(train_X)\n",
    "print(layers[0].W.shape)\n",
    "print(layers[0].W)\n",
    "print(layers[0].delta)\n",
    "print(layers[0].delta.shape)\n",
    "np.dot(train_X, layers[0].W)"
   ]
  },
  {
   "cell_type": "markdown",
   "metadata": {},
   "source": [
    "## 宿題．MNISTデータセットを多層パーセプトロンで学習"
   ]
  },
  {
   "cell_type": "markdown",
   "metadata": {},
   "source": [
    "ヒント\n",
    "* 出力yはone-of-k表現\n",
    "* 最終層の活性化関数はsoftmax関数，誤差関数は多クラス交差エントロピー"
   ]
  },
  {
   "cell_type": "code",
   "execution_count": null,
   "metadata": {
    "collapsed": true
   },
   "outputs": [],
   "source": []
  }
 ],
 "metadata": {
  "kernelspec": {
   "display_name": "Python 3",
   "language": "python",
   "name": "python3"
  },
  "language_info": {
   "codemirror_mode": {
    "name": "ipython",
    "version": 3
   },
   "file_extension": ".py",
   "mimetype": "text/x-python",
   "name": "python",
   "nbconvert_exporter": "python",
   "pygments_lexer": "ipython3",
   "version": "3.5.0"
  }
 },
 "nbformat": 4,
 "nbformat_minor": 0
}
