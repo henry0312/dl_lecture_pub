{
 "cells": [
  {
   "cell_type": "markdown",
   "metadata": {},
   "source": [
    "# 第6回演習課題"
   ]
  },
  {
   "cell_type": "code",
   "execution_count": 1,
   "metadata": {
    "collapsed": false
   },
   "outputs": [
    {
     "name": "stderr",
     "output_type": "stream",
     "text": [
      "Using gpu device 2: GeForce GTX TITAN X\n"
     ]
    }
   ],
   "source": [
    "import theano.sandbox.cuda\n",
    "theano.sandbox.cuda.use(\"gpu2\") #gpu1, gpu2, gpu3"
   ]
  },
  {
   "cell_type": "code",
   "execution_count": 1,
   "metadata": {
    "collapsed": false
   },
   "outputs": [],
   "source": [
    "import numpy as np\n",
    "import theano.tensor as T\n",
    "import theano"
   ]
  },
  {
   "cell_type": "markdown",
   "metadata": {},
   "source": [
    "## 課題1．convとdownsampleの使い方"
   ]
  },
  {
   "cell_type": "markdown",
   "metadata": {},
   "source": [
    "### Convolution"
   ]
  },
  {
   "cell_type": "markdown",
   "metadata": {},
   "source": [
    "- 畳み込みのフィルタ（重み）$W_{i,j}^{k,l}$\n",
    "    - 次元数4$(k,l,i,j)$\n",
    "        - $l$：入力のチャネル数\n",
    "        - $k$：フィルタ数（出力のチャネル数)\n",
    "        - $i$：フィルタの行数\n",
    "        - $j$：フィルタの列数\n",
    "    - ストライド：フィルタを適用する位置の間隔（theanoのsubsampleオプション）\n",
    "    - ゼロパディング：入力の周りに値0の縁を加える（theanoのborder_mode=\"full\"オプション）\n",
    "        - 入力のサイズを保つ為，フィルタの縦or横の次元が$F$のときパディング数を$(F-1)/2$とする．\n",
    "        - ただしborder_mode=\"full\"だと，$F-1$となることに注意\n",
    "- 入力または隠れ層$X_{i,j}^{k}$\n",
    "    - 次元数4$(n,k,i,j)$\n",
    "        - $n$：バッチサイズ\n",
    "        - $k$：チャネル数\n",
    "        - $i$：入力の行数\n",
    "        - $j$：入力の列数\n",
    "- フィルタ後のサイズは，入力の縦or横の次元数$N$，フィルタの縦or横の次元数$F$，ストライドの縦or横の量$S$で決まる．\n",
    "    - $(N-F)/S+1$\n",
    "    - border_mode=\"full\"の場合，S=1のとき$(N-F+2(F-1))+1=N+F-1$"
   ]
  },
  {
   "cell_type": "code",
   "execution_count": 2,
   "metadata": {
    "collapsed": false
   },
   "outputs": [
    {
     "name": "stdout",
     "output_type": "stream",
     "text": [
      "[[ 1.  1.  1.  0.  0.]\n",
      " [ 0.  1.  1.  1.  0.]\n",
      " [ 0.  0.  1.  1.  1.]\n",
      " [ 0.  0.  1.  1.  0.]\n",
      " [ 0.  1.  1.  0.  0.]]\n",
      "[[[[ 1.  0.  1.]\n",
      "   [ 0.  1.  0.]\n",
      "   [ 1.  0.  1.]]]]\n",
      "[[ 4.  3.  4.]\n",
      " [ 2.  4.  3.]\n",
      " [ 2.  3.  4.]]\n",
      "[[ 4.  4.]\n",
      " [ 2.  4.]]\n",
      "[[ 1.  1.  2.  1.  1.  0.  0.]\n",
      " [ 0.  2.  2.  3.  1.  1.  0.]\n",
      " [ 1.  1.  4.  3.  4.  1.  1.]\n",
      " [ 0.  1.  2.  4.  3.  3.  0.]\n",
      " [ 0.  1.  2.  3.  4.  1.  1.]\n",
      " [ 0.  0.  2.  2.  1.  1.  0.]\n",
      " [ 0.  1.  1.  1.  1.  0.  0.]]\n",
      "[[ 4.  3.  4.  1.  1.]\n",
      " [ 2.  4.  3.  3.  0.]\n",
      " [ 2.  3.  4.  1.  1.]\n",
      " [ 2.  2.  1.  1.  0.]\n",
      " [ 1.  1.  1.  0.  0.]]\n"
     ]
    }
   ],
   "source": [
    "from theano.tensor.nnet import conv\n",
    "\n",
    "#入力 (バッチサイズとチャネル数は1）\n",
    "x = T.fmatrix('x')\n",
    "x_4d = x[np.newaxis, np.newaxis, :, :]\n",
    "#x_4d = x.dimshuffle('x','x',0,1)でも可\n",
    "\n",
    "#フィルタ(1,1,3,3)\n",
    "W = np.array([[1,0,1],[0,1,0],[1,0,1]]).astype(\"float32\").reshape(1, 1, 3, 3)\n",
    "\n",
    "#畳み込み((5-3)+1=3)\n",
    "convoluted_image = conv.conv2d(x_4d, W, border_mode=\"valid\")\n",
    "\n",
    "#ストライド(2×2)((5-3)/2+1=2)\n",
    "stride_convoluted_image = conv.conv2d(x_4d, W, border_mode=\"valid\", subsample=(2, 2))\n",
    "\n",
    "#パディング(full)((5+3)-1=7)\n",
    "fullpadding_convoluted_image = conv.conv2d(x_4d, W, border_mode=\"full\")\n",
    "\n",
    "#パディング(same size)\n",
    "pd_h = W.shape[2]-1\n",
    "pd_w = W.shape[3]-1\n",
    "x_h = x_4d.shape[2]\n",
    "x_w = x_4d.shape[3]\n",
    "# border_mode=\"full\"で計算して、スライス\n",
    "samepadding_convoluted_image = conv.conv2d(x_4d, W, border_mode=\"full\")[:, :, pd_h:x_h+pd_h, pd_w:x_w+pd_w]\n",
    "\n",
    "#Convolution Function\n",
    "convolution = theano.function([x], convoluted_image)\n",
    "stride_convolution = theano.function([x], stride_convoluted_image)\n",
    "fullpadding_convolution = theano.function([x], fullpadding_convoluted_image)\n",
    "samepadding_convolution = theano.function([x], samepadding_convoluted_image)\n",
    "\n",
    "#Sample Image (5×5)\n",
    "sample_image = np.array([[1., 1., 1., 0., 0.], \n",
    "                         [0., 1., 1., 1., 0.], \n",
    "                         [0., 0., 1., 1., 1.], \n",
    "                         [0., 0., 1., 1., 0.], \n",
    "                         [0., 1., 1., 0., 0.]]).astype(\"float32\")\n",
    "\n",
    "#Original Image\n",
    "print(sample_image)\n",
    "\n",
    "#Filter\n",
    "print(W)\n",
    "\n",
    "#Convolved Image\n",
    "print(convolution(sample_image).reshape(3, 3))\n",
    "print(stride_convolution(sample_image).reshape(2, 2))\n",
    "print(fullpadding_convolution(sample_image).reshape(7, 7))\n",
    "print(samepadding_convolution(sample_image).reshape(5, 5))"
   ]
  },
  {
   "cell_type": "markdown",
   "metadata": {},
   "source": [
    "### Pooling"
   ]
  },
  {
   "cell_type": "markdown",
   "metadata": {},
   "source": [
    "- プーリングには次の種類がある\n",
    "    - Max pooling (theanoでは'max')\n",
    "    - Sum pooling (theanoでは'sum')\n",
    "    - Mean pooling (theanoでは'average_exc_pad')\n",
    "    - その他Lpプーリングなど(theano未実装)\n",
    "- Convと同様，ストライドやパディングも考えることもある．\n",
    "    - ストライドはデフォルトではdsと同じ\n",
    "- ignore_border=Falseにすると，画像領域を超える"
   ]
  },
  {
   "cell_type": "code",
   "execution_count": 3,
   "metadata": {
    "collapsed": false
   },
   "outputs": [
    {
     "name": "stdout",
     "output_type": "stream",
     "text": [
      "[[ 83.  83.]\n",
      " [ 87.  85.]]\n",
      "[[ 83.  82.  83.  83.]\n",
      " [ 87.  82.  83.  83.]\n",
      " [ 87.  87.  85.  80.]\n",
      " [ 87.  87.  85.  78.]]\n",
      "[[ 77.  82.  78.]\n",
      " [ 87.  82.  83.]\n",
      " [ 87.  87.  78.]]\n"
     ]
    }
   ],
   "source": [
    "from theano.tensor.signal import downsample\n",
    "\n",
    "#入力 (バッチサイズとチャネル数は1）\n",
    "x = T.fmatrix('x')\n",
    "x_4d = x[np.newaxis, np.newaxis, :, :]\n",
    "#x_4d = x.dimshuffle('x','x',0,1)でも可\n",
    "\n",
    "#pooling\n",
    "pooled = downsample.max_pool_2d(input=x_4d, ds=(2,2), ignore_border=True)\n",
    "\n",
    "#ストライド(1×1，デフォルトではdsと同じ）\n",
    "stride_pooled = downsample.max_pool_2d(input=x_4d, ds=(2,2), st=(1,1), ignore_border=True)\n",
    "\n",
    "#パディング\n",
    "padding_pooled = downsample.max_pool_2d(input=x_4d, ds=(2,2), ignore_border=True, padding=(1,1))\n",
    "\n",
    "#mean pooling\n",
    "#mean_pooled = downsample.max_pool_2d(input=x_4d, ds=(2,2), mode='average_exc_pad', ignore_border=True) # Theano 0.7では動かない（最新版では動く？）\n",
    "\n",
    "#Pooling Function\n",
    "pooling = theano.function([x], pooled)\n",
    "stride_pooling = theano.function([x], stride_pooled)\n",
    "padding_pooling = theano.function([x], padding_pooled)\n",
    "#mean_pooling = theano.function([x], mean_pooled)\n",
    "\n",
    "#Sample Image (5×5)\n",
    "sample_image = np.array([[77, 80, 82, 78, 70], \n",
    "                         [83, 78, 80, 83, 82], \n",
    "                         [87, 82, 81, 80, 74], \n",
    "                         [87, 87, 85, 77, 66], \n",
    "                         [84, 79, 77, 78, 76]]).astype(\"float32\")\n",
    "\n",
    "print(pooling(sample_image).reshape(2, 2))\n",
    "print(stride_pooling(sample_image).reshape(4, 4))\n",
    "print(padding_pooling(sample_image).reshape(3, 3))\n",
    "#print(mean_pooling(sample_image).reshape(2, 2))"
   ]
  },
  {
   "cell_type": "markdown",
   "metadata": {},
   "source": [
    "## 課題2．Conv layerとPooling layerの実装"
   ]
  },
  {
   "cell_type": "markdown",
   "metadata": {},
   "source": [
    "Conv layer"
   ]
  },
  {
   "cell_type": "code",
   "execution_count": 2,
   "metadata": {
    "collapsed": false
   },
   "outputs": [],
   "source": [
    "from theano.tensor.nnet import conv\n",
    "class Conv:\n",
    "    def __init__(self, filter_shape, function, border_mode=\"valid\", subsample=(1, 1)):\n",
    "        \n",
    "        self.function = function\n",
    "        self.border_mode = border_mode\n",
    "        self.subsample = subsample\n",
    "        \n",
    "        fan_in = np.prod(filter_shape[1:])\n",
    "        fan_out = (filter_shape[0] * np.prod(filter_shape[2:]))\n",
    "        \n",
    "        self.W = theano.shared(rng.uniform(\n",
    "                    low=-4*np.sqrt(6. / (fan_in + fan_out)),\n",
    "                    high=4*np.sqrt(6. / (fan_in + fan_out)),\n",
    "                    size=filter_shape\n",
    "                ).astype(\"float32\"), name=\"W\")\n",
    "        #バイアスはフィルタごと\n",
    "        self.b = theano.shared(np.zeros((filter_shape[0],), dtype=\"float32\"), name=\"b\")\n",
    "        self.params = [self.W, self.b]\n",
    "        \n",
    "    def fprop(self, x):\n",
    "        #畳込み処理\n",
    "        conv_out = conv.conv2d(x, self.W,\n",
    "                               border_mode=self.border_mode,\n",
    "                               subsample=self.subsample)\n",
    "        #バイアスを加えて（第1要素）活性化関数をかける\n",
    "        y = self.function(conv_out + self.b[np.newaxis, :, np.newaxis, np.newaxis])\n",
    "        return y"
   ]
  },
  {
   "cell_type": "markdown",
   "metadata": {},
   "source": [
    "Pooling layer"
   ]
  },
  {
   "cell_type": "code",
   "execution_count": 3,
   "metadata": {
    "collapsed": true
   },
   "outputs": [],
   "source": [
    "from theano.tensor.signal import downsample\n",
    "class Pooling:\n",
    "    def __init__(self, pool_size=(2,2)):\n",
    "        self.pool_size=pool_size\n",
    "        self.params = [] # プーリング層では更新するパラメータはない\n",
    "    def fprop(self, x):\n",
    "        #プーリングした値を返す\n",
    "        return downsample.max_pool_2d(x, self.pool_size, ignore_border=True)"
   ]
  },
  {
   "cell_type": "markdown",
   "metadata": {},
   "source": [
    "Flatten layer"
   ]
  },
  {
   "cell_type": "code",
   "execution_count": 4,
   "metadata": {
    "collapsed": false
   },
   "outputs": [],
   "source": [
    "class Flatten:\n",
    "    def __init__(self, outdim=2):\n",
    "        self.outdim = outdim\n",
    "        self.params = []\n",
    "    def fprop(self, x):\n",
    "        #flattenはoutdim次元にする関数\n",
    "        return T.flatten(x, self.outdim)"
   ]
  },
  {
   "cell_type": "markdown",
   "metadata": {},
   "source": [
    "## 宿題．畳み込みニューラルネットワークの実装，MNISTでの実験．"
   ]
  },
  {
   "cell_type": "markdown",
   "metadata": {},
   "source": [
    "- データはmnist_x,mnist_yで与えられます\n",
    "    - mnsit_xとmnist_yをtrain_X,train_yとvalid_X,valid_yに分けるなどしてモデルを学習してください\n",
    "- test関数を定義してください\n",
    "    - 採点システム側で用意したtest_Xを与えたときの出力の精度(F値)で評価します"
   ]
  },
  {
   "cell_type": "code",
   "execution_count": 5,
   "metadata": {
    "collapsed": true
   },
   "outputs": [],
   "source": [
    "import numpy as np\n",
    "import theano\n",
    "import theano.tensor as T\n",
    "from theano.tensor.shared_randomstreams import RandomStreams\n",
    "from collections import OrderedDict\n",
    "rng = np.random.RandomState(1234)\n",
    "\n",
    "%matplotlib inline\n",
    "import matplotlib.pyplot as plt\n",
    "\n",
    "from sklearn.utils import shuffle\n",
    "from sklearn.cross_validation import train_test_split\n",
    "\n",
    "from sklearn.metrics import f1_score\n",
    "from sklearn.datasets import fetch_mldata\n",
    "mnist = fetch_mldata('MNIST original')\n",
    "mnist_x, mnist_y = mnist.data.astype(\"float32\")/255.0, mnist.target.astype(\"int32\")"
   ]
  },
  {
   "cell_type": "markdown",
   "metadata": {},
   "source": [
    "次のセルを完成させて提出してください\n",
    "- レイヤークラスなど，必要なものは全て書いてください"
   ]
  },
  {
   "cell_type": "code",
   "execution_count": 6,
   "metadata": {
    "collapsed": true
   },
   "outputs": [],
   "source": [
    "#Layer \n",
    "class Layer:\n",
    "    def __init__(self, in_dim, out_dim, function):\n",
    "        self.W = theano.shared(\n",
    "            rng.uniform(\n",
    "                low=-np.sqrt(6./(in_dim+out_dim)),\n",
    "                high=np.sqrt(6./(in_dim+out_dim)),\n",
    "                size=(in_dim, out_dim)\n",
    "            ).astype('float32'), name='W'\n",
    "        )\n",
    "        self.b = theano.shared(np.zeros(out_dim).astype('float32'), name='bias')\n",
    "        self.func = function\n",
    "        self.params = [self.W, self.b]\n",
    "\n",
    "    def fprop(self, x):\n",
    "        z = self.func(T.dot(x, self.W) + self.b)\n",
    "        self.z = z\n",
    "        return z"
   ]
  },
  {
   "cell_type": "code",
   "execution_count": 7,
   "metadata": {
    "collapsed": true
   },
   "outputs": [],
   "source": [
    "#SGD\n",
    "def sgd(params, gparams, lr=0.01):\n",
    "    updates = OrderedDict()\n",
    "    for param, gparam in zip(params, gparams):\n",
    "        updates[param] = param - lr * gparam\n",
    "    return updates"
   ]
  },
  {
   "cell_type": "code",
   "execution_count": 8,
   "metadata": {
    "collapsed": true
   },
   "outputs": [],
   "source": [
    "def get_functions(layers):\n",
    "    x, t = T.fmatrix(\"x\"), T.ivector(\"t\")\n",
    "    x_4d = x.reshape((x.shape[0], 1, 28, 28)) #画像を4次元にする\n",
    "    \n",
    "    params = []\n",
    "    layer_out = x_4d\n",
    "    for i, layer in enumerate(layers):\n",
    "        params += layer.params\n",
    "        layer_out = layer.fprop(layer_out)  \n",
    "    \n",
    "    y = layer_out\n",
    "    cost = - T.mean((T.log(y))[T.arange(x.shape[0]), t])\n",
    "    \n",
    "    gparams = T.grad(cost, params)\n",
    "    updates = sgd(params,gparams)\n",
    "    \n",
    "    train = theano.function([x,t], cost, updates=updates)\n",
    "    valid = theano.function([x,t], [cost, T.argmax(y, axis=1)])\n",
    "    test  = theano.function([x], T.argmax(y, axis=1))\n",
    "    \n",
    "    return train, valid, test"
   ]
  },
  {
   "cell_type": "code",
   "execution_count": 9,
   "metadata": {
    "collapsed": true
   },
   "outputs": [],
   "source": [
    "train_x, valid_x, train_y, valid_y = train_test_split(mnist_x, mnist_y, test_size=0.2, random_state=42)"
   ]
  },
  {
   "cell_type": "code",
   "execution_count": 10,
   "metadata": {
    "collapsed": false,
    "scrolled": true
   },
   "outputs": [
    {
     "name": "stdout",
     "output_type": "stream",
     "text": [
      "EPOCH::   1, Validatioon Cost:: 2.243, Validation F1:: 0.366\n",
      "EPOCH::  10, Validatioon Cost:: 0.463, Validation F1:: 0.877\n",
      "EPOCH::  20, Validatioon Cost:: 0.283, Validation F1:: 0.920\n",
      "EPOCH::  30, Validatioon Cost:: 0.214, Validation F1:: 0.938\n",
      "EPOCH::  40, Validatioon Cost:: 0.172, Validation F1:: 0.949\n",
      "EPOCH::  50, Validatioon Cost:: 0.145, Validation F1:: 0.958\n",
      "EPOCH::  60, Validatioon Cost:: 0.126, Validation F1:: 0.963\n",
      "EPOCH::  70, Validatioon Cost:: 0.113, Validation F1:: 0.966\n",
      "EPOCH::  80, Validatioon Cost:: 0.102, Validation F1:: 0.970\n",
      "EPOCH::  90, Validatioon Cost:: 0.094, Validation F1:: 0.972\n",
      "EPOCH:: 100, Validatioon Cost:: 0.088, Validation F1:: 0.974\n",
      "EPOCH:: 110, Validatioon Cost:: 0.083, Validation F1:: 0.975\n",
      "EPOCH:: 120, Validatioon Cost:: 0.078, Validation F1:: 0.977\n",
      "EPOCH:: 130, Validatioon Cost:: 0.075, Validation F1:: 0.978\n",
      "EPOCH:: 140, Validatioon Cost:: 0.071, Validation F1:: 0.979\n",
      "EPOCH:: 150, Validatioon Cost:: 0.068, Validation F1:: 0.980\n",
      "EPOCH:: 160, Validatioon Cost:: 0.067, Validation F1:: 0.980\n",
      "EPOCH:: 170, Validatioon Cost:: 0.064, Validation F1:: 0.981\n",
      "EPOCH:: 180, Validatioon Cost:: 0.062, Validation F1:: 0.981\n",
      "EPOCH:: 190, Validatioon Cost:: 0.061, Validation F1:: 0.981\n",
      "EPOCH:: 200, Validatioon Cost:: 0.059, Validation F1:: 0.982\n",
      "EPOCH:: 210, Validatioon Cost:: 0.057, Validation F1:: 0.983\n",
      "EPOCH:: 220, Validatioon Cost:: 0.056, Validation F1:: 0.984\n",
      "EPOCH:: 230, Validatioon Cost:: 0.055, Validation F1:: 0.984\n",
      "EPOCH:: 240, Validatioon Cost:: 0.054, Validation F1:: 0.984\n",
      "EPOCH:: 250, Validatioon Cost:: 0.052, Validation F1:: 0.985\n",
      "EPOCH:: 260, Validatioon Cost:: 0.051, Validation F1:: 0.985\n",
      "EPOCH:: 270, Validatioon Cost:: 0.050, Validation F1:: 0.985\n",
      "EPOCH:: 280, Validatioon Cost:: 0.050, Validation F1:: 0.985\n",
      "EPOCH:: 290, Validatioon Cost:: 0.049, Validation F1:: 0.985\n",
      "EPOCH:: 300, Validatioon Cost:: 0.048, Validation F1:: 0.985\n",
      "EPOCH:: 310, Validatioon Cost:: 0.047, Validation F1:: 0.986\n",
      "EPOCH:: 320, Validatioon Cost:: 0.047, Validation F1:: 0.986\n",
      "EPOCH:: 330, Validatioon Cost:: 0.047, Validation F1:: 0.986\n",
      "EPOCH:: 340, Validatioon Cost:: 0.046, Validation F1:: 0.986\n",
      "EPOCH:: 350, Validatioon Cost:: 0.045, Validation F1:: 0.986\n",
      "EPOCH:: 360, Validatioon Cost:: 0.045, Validation F1:: 0.986\n",
      "EPOCH:: 370, Validatioon Cost:: 0.044, Validation F1:: 0.987\n",
      "EPOCH:: 380, Validatioon Cost:: 0.044, Validation F1:: 0.987\n",
      "EPOCH:: 390, Validatioon Cost:: 0.044, Validation F1:: 0.987\n",
      "EPOCH:: 400, Validatioon Cost:: 0.043, Validation F1:: 0.987\n",
      "EPOCH:: 410, Validatioon Cost:: 0.042, Validation F1:: 0.987\n",
      "EPOCH:: 420, Validatioon Cost:: 0.042, Validation F1:: 0.987\n",
      "EPOCH:: 430, Validatioon Cost:: 0.042, Validation F1:: 0.987\n",
      "EPOCH:: 440, Validatioon Cost:: 0.042, Validation F1:: 0.987\n",
      "EPOCH:: 450, Validatioon Cost:: 0.041, Validation F1:: 0.987\n",
      "EPOCH:: 460, Validatioon Cost:: 0.041, Validation F1:: 0.987\n",
      "EPOCH:: 470, Validatioon Cost:: 0.041, Validation F1:: 0.988\n",
      "EPOCH:: 480, Validatioon Cost:: 0.040, Validation F1:: 0.988\n",
      "EPOCH:: 490, Validatioon Cost:: 0.040, Validation F1:: 0.988\n",
      "EPOCH:: 500, Validatioon Cost:: 0.040, Validation F1:: 0.988\n",
      "EPOCH:: 510, Validatioon Cost:: 0.040, Validation F1:: 0.988\n",
      "EPOCH:: 520, Validatioon Cost:: 0.040, Validation F1:: 0.988\n",
      "EPOCH:: 530, Validatioon Cost:: 0.039, Validation F1:: 0.988\n",
      "EPOCH:: 540, Validatioon Cost:: 0.039, Validation F1:: 0.988\n",
      "EPOCH:: 550, Validatioon Cost:: 0.039, Validation F1:: 0.988\n",
      "EPOCH:: 560, Validatioon Cost:: 0.039, Validation F1:: 0.988\n",
      "EPOCH:: 570, Validatioon Cost:: 0.038, Validation F1:: 0.988\n",
      "EPOCH:: 580, Validatioon Cost:: 0.039, Validation F1:: 0.988\n",
      "EPOCH:: 590, Validatioon Cost:: 0.038, Validation F1:: 0.988\n",
      "EPOCH:: 600, Validatioon Cost:: 0.038, Validation F1:: 0.988\n",
      "EPOCH:: 610, Validatioon Cost:: 0.038, Validation F1:: 0.988\n",
      "EPOCH:: 620, Validatioon Cost:: 0.038, Validation F1:: 0.989\n",
      "EPOCH:: 630, Validatioon Cost:: 0.038, Validation F1:: 0.989\n",
      "EPOCH:: 640, Validatioon Cost:: 0.038, Validation F1:: 0.988\n",
      "EPOCH:: 650, Validatioon Cost:: 0.037, Validation F1:: 0.988\n",
      "EPOCH:: 660, Validatioon Cost:: 0.037, Validation F1:: 0.989\n",
      "EPOCH:: 670, Validatioon Cost:: 0.037, Validation F1:: 0.989\n",
      "EPOCH:: 680, Validatioon Cost:: 0.037, Validation F1:: 0.988\n",
      "EPOCH:: 690, Validatioon Cost:: 0.037, Validation F1:: 0.989\n",
      "EPOCH:: 700, Validatioon Cost:: 0.037, Validation F1:: 0.989\n",
      "EPOCH:: 710, Validatioon Cost:: 0.037, Validation F1:: 0.989\n",
      "EPOCH:: 720, Validatioon Cost:: 0.037, Validation F1:: 0.989\n",
      "EPOCH:: 730, Validatioon Cost:: 0.037, Validation F1:: 0.988\n",
      "EPOCH:: 740, Validatioon Cost:: 0.036, Validation F1:: 0.989\n",
      "EPOCH:: 750, Validatioon Cost:: 0.036, Validation F1:: 0.988\n",
      "EPOCH:: 760, Validatioon Cost:: 0.036, Validation F1:: 0.989\n",
      "EPOCH:: 770, Validatioon Cost:: 0.036, Validation F1:: 0.989\n",
      "EPOCH:: 780, Validatioon Cost:: 0.036, Validation F1:: 0.989\n",
      "EPOCH:: 790, Validatioon Cost:: 0.036, Validation F1:: 0.989\n",
      "EPOCH:: 800, Validatioon Cost:: 0.036, Validation F1:: 0.989\n",
      "EPOCH:: 810, Validatioon Cost:: 0.036, Validation F1:: 0.989\n",
      "EPOCH:: 820, Validatioon Cost:: 0.036, Validation F1:: 0.989\n",
      "EPOCH:: 830, Validatioon Cost:: 0.036, Validation F1:: 0.989\n",
      "EPOCH:: 840, Validatioon Cost:: 0.036, Validation F1:: 0.989\n",
      "EPOCH:: 850, Validatioon Cost:: 0.036, Validation F1:: 0.989\n",
      "EPOCH:: 860, Validatioon Cost:: 0.036, Validation F1:: 0.989\n",
      "EPOCH:: 870, Validatioon Cost:: 0.035, Validation F1:: 0.989\n",
      "EPOCH:: 880, Validatioon Cost:: 0.036, Validation F1:: 0.989\n",
      "EPOCH:: 890, Validatioon Cost:: 0.035, Validation F1:: 0.989\n",
      "EPOCH:: 900, Validatioon Cost:: 0.036, Validation F1:: 0.989\n",
      "EPOCH:: 910, Validatioon Cost:: 0.035, Validation F1:: 0.989\n",
      "EPOCH:: 920, Validatioon Cost:: 0.035, Validation F1:: 0.989\n",
      "EPOCH:: 930, Validatioon Cost:: 0.035, Validation F1:: 0.989\n",
      "EPOCH:: 940, Validatioon Cost:: 0.035, Validation F1:: 0.989\n",
      "EPOCH:: 950, Validatioon Cost:: 0.035, Validation F1:: 0.989\n",
      "EPOCH:: 960, Validatioon Cost:: 0.035, Validation F1:: 0.989\n",
      "EPOCH:: 970, Validatioon Cost:: 0.035, Validation F1:: 0.989\n",
      "EPOCH:: 980, Validatioon Cost:: 0.035, Validation F1:: 0.989\n",
      "EPOCH:: 990, Validatioon Cost:: 0.035, Validation F1:: 0.989\n",
      "EPOCH:: 1000, Validatioon Cost:: 0.035, Validation F1:: 0.990\n"
     ]
    }
   ],
   "source": [
    "activation = T.nnet.sigmoid\n",
    "layers = [\n",
    "    Conv((20, 1, 5, 5), activation), # 24x24\n",
    "    Pooling((2, 2)), # 12x12\n",
    "    Conv((50, 20, 5, 5), activation), # 8x8\n",
    "    Pooling((2, 2)), # 4x4\n",
    "    Flatten(2), # 16 x 50 = 800\n",
    "    Layer(800, 500, activation), # 800 = ((((28-5+1)/2)-5+1)/2)**2*50\n",
    "    Layer(500, 10, T.nnet.softmax)\n",
    "]\n",
    "\n",
    "train, valid, test = get_functions(layers)\n",
    "\n",
    "batch_size = 100\n",
    "nbatches = train_x.shape[0] // batch_size\n",
    "\n",
    "for epoch in range(1000):\n",
    "    train_x, train_y = shuffle(train_x, train_y)\n",
    "    for i in range(nbatches):\n",
    "        start = i * batch_size\n",
    "        end = start + batch_size\n",
    "        \n",
    "        train(train_x[start:end], train_y[start:end])\n",
    "    \n",
    "    if ((epoch+1) % 10 == 0) or (epoch == 0):\n",
    "        valid_cost, pred = valid(valid_x, valid_y)\n",
    "        print(\"EPOCH:: {:3d}, Validatioon Cost:: {:.3f}, Validation F1:: {:.3f}\".format(epoch+1,\n",
    "                                                                                     float(valid_cost),\n",
    "                                                                                     f1_score(valid_y, pred, average=\"micro\")))"
   ]
  },
  {
   "cell_type": "markdown",
   "metadata": {},
   "source": [
    "以下の処理は，システム側で行います"
   ]
  },
  {
   "cell_type": "code",
   "execution_count": null,
   "metadata": {
    "collapsed": true
   },
   "outputs": [],
   "source": [
    "pred_y = test(test_X)"
   ]
  }
 ],
 "metadata": {
  "kernelspec": {
   "display_name": "Python 3",
   "language": "python",
   "name": "python3"
  },
  "language_info": {
   "codemirror_mode": {
    "name": "ipython",
    "version": 3
   },
   "file_extension": ".py",
   "mimetype": "text/x-python",
   "name": "python",
   "nbconvert_exporter": "python",
   "pygments_lexer": "ipython3",
   "version": "3.5.0"
  }
 },
 "nbformat": 4,
 "nbformat_minor": 0
}
